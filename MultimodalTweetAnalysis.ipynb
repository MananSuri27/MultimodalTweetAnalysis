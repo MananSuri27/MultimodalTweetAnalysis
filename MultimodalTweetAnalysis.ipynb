{
  "cells": [
    {
      "cell_type": "markdown",
      "metadata": {
        "id": "view-in-github",
        "colab_type": "text"
      },
      "source": [
        "<a href=\"https://colab.research.google.com/github/MananSuri27/MultimodalTweetAnalysis/blob/main/MultimodalTweetAnalysis.ipynb\" target=\"_parent\"><img src=\"https://colab.research.google.com/assets/colab-badge.svg\" alt=\"Open In Colab\"/></a>"
      ]
    },
    {
      "cell_type": "markdown",
      "metadata": {
        "id": "QZR8kqmfRssU"
      },
      "source": [
        "# Training a BertWithTabular Model for CLEF CheckThat! Lab Task 1"
      ]
    },
    {
      "cell_type": "code",
      "execution_count": null,
      "metadata": {
        "id": "ynd8CTLBRssZ"
      },
      "outputs": [],
      "source": [
        "!pip install multimodal-transformers\n"
      ]
    },
    {
      "cell_type": "code",
      "execution_count": null,
      "metadata": {
        "id": "mqLZevhDPcaI"
      },
      "outputs": [],
      "source": [
        "!pip install transformers"
      ]
    },
    {
      "cell_type": "code",
      "execution_count": null,
      "metadata": {
        "id": "Scm6cPeURss2"
      },
      "outputs": [],
      "source": [
        "from dataclasses import dataclass, field\n",
        "import json\n",
        "import logging\n",
        "import os\n",
        "from typing import Optional\n",
        "\n",
        "import numpy as np\n",
        "import pandas as pd\n",
        "from transformers import (\n",
        "    AutoTokenizer,\n",
        "    AutoConfig,\n",
        "    Trainer,\n",
        "    EvalPrediction,\n",
        "    set_seed\n",
        ")\n",
        "from transformers.training_args import TrainingArguments\n",
        "\n",
        "from multimodal_transformers.data import load_data_from_folder\n",
        "from multimodal_transformers.model import TabularConfig\n",
        "from multimodal_transformers.model import AutoModelWithTabular\n",
        "\n",
        "logging.basicConfig(level=logging.INFO)\n",
        "os.environ['COMET_MODE'] = 'DISABLED'\n"
      ]
    },
    {
      "cell_type": "markdown",
      "metadata": {
        "id": "hjUqUXgpRstr"
      },
      "source": [
        "## Dataset\n",
        "\n",
        "Our dataset is the [Womens Clothing E-Commerce Reviews](https://www.kaggle.com/nicapotato/womens-ecommerce-clothing-reviews) dataset from kaggle. It contains reviews written by customers about clothing items as well as whether they recommend the data or not. We download the dataset here."
      ]
    },
    {
      "cell_type": "code",
      "execution_count": null,
      "metadata": {
        "id": "R_d-xAfJWIz9"
      },
      "outputs": [],
      "source": [
        "train_df= pd.read_csv('/content/task1btrainfinal.csv')\n",
        "val_df=pd.read_csv('/content/task1bvalfinal.csv')\n",
        "test_df = pd.read_csv('/content/task1btestfinal.csv')"
      ]
    },
    {
      "cell_type": "code",
      "execution_count": null,
      "metadata": {
        "colab": {
          "base_uri": "https://localhost:8080/"
        },
        "id": "uQ41PkSZRsts",
        "outputId": "33f66da4-18ac-46eb-c39a-fbd3d833be62"
      },
      "outputs": [
        {
          "output_type": "stream",
          "name": "stdout",
          "text": [
            "Num examples train-val-test\n",
            "4318 6 251\n"
          ]
        }
      ],
      "source": [
        "# train_df, val_df, test_df = np.split(data_df.sample(frac=1), [int(.8*len(data_df)), int(.9 * len(data_df))])\n",
        "print('Num examples train-val-test')\n",
        "print(len(train_df), len(val_df), len(test_df))\n",
        "train_df.to_csv('train.csv')\n",
        "val_df.to_csv('val.csv')\n",
        "test_df.to_csv('test.csv')"
      ]
    },
    {
      "cell_type": "markdown",
      "metadata": {
        "id": "XA5z7WTqWV0A"
      },
      "source": [
        "## We then our Experiment Parameters\n",
        "We use Data Classes to hold each of our arguments for the model, data, and training. "
      ]
    },
    {
      "cell_type": "code",
      "execution_count": null,
      "metadata": {
        "id": "bNg22DHEWueA"
      },
      "outputs": [],
      "source": [
        "@dataclass\n",
        "class ModelArguments:\n",
        "  \"\"\"\n",
        "  Arguments pertaining to which model/config/tokenizer we are going to fine-tune from.\n",
        "  \"\"\"\n",
        "\n",
        "  model_name_or_path: str = field(\n",
        "      metadata={\"help\": \"Path to pretrained model or model identifier from huggingface.co/models\"}\n",
        "  )\n",
        "  config_name: Optional[str] = field(\n",
        "      default=None, metadata={\"help\": \"Pretrained config name or path if not the same as model_name\"}\n",
        "  )\n",
        "  tokenizer_name: Optional[str] = field(\n",
        "      default=None, metadata={\"help\": \"Pretrained tokenizer name or path if not the same as model_name\"}\n",
        "  )\n",
        "  cache_dir: Optional[str] = field(\n",
        "      default=None, metadata={\"help\": \"Where do you want to store the pretrained models downloaded from s3\"}\n",
        "  )\n",
        "\n",
        "\n",
        "@dataclass\n",
        "class MultimodalDataTrainingArguments:\n",
        "  \"\"\"\n",
        "  Arguments pertaining to how we combine tabular features\n",
        "  Using `HfArgumentParser` we can turn this class\n",
        "  into argparse arguments to be able to specify them on\n",
        "  the command line.\n",
        "  \"\"\"\n",
        "\n",
        "  data_path: str = field(metadata={\n",
        "                            'help': 'the path to the csv file containing the dataset'\n",
        "                        })\n",
        "  column_info_path: str = field(\n",
        "      default=None,\n",
        "      metadata={\n",
        "          'help': 'the path to the json file detailing which columns are text, categorical, numerical, and the label'\n",
        "  })\n",
        "\n",
        "  column_info: dict = field(\n",
        "      default=None,\n",
        "      metadata={\n",
        "          'help': 'a dict referencing the text, categorical, numerical, and label columns'\n",
        "                  'its keys are text_cols, num_cols, cat_cols, and label_col'\n",
        "  })\n",
        "\n",
        "  categorical_encode_type: str = field(default='ohe',\n",
        "                                        metadata={\n",
        "                                            'help': 'sklearn encoder to use for categorical data',\n",
        "                                            'choices': ['ohe', 'binary', 'label', 'none']\n",
        "                                        })\n",
        "  numerical_transformer_method: str = field(default='yeo_johnson',\n",
        "                                            metadata={\n",
        "                                                'help': 'sklearn numerical transformer to preprocess numerical data',\n",
        "                                                'choices': ['yeo_johnson', 'box_cox', 'quantile_normal', 'none']\n",
        "                                            })\n",
        "  task: str = field(default=\"classification\",\n",
        "                    metadata={\n",
        "                        \"help\": \"The downstream training task\",\n",
        "                        \"choices\": [\"classification\", \"regression\"]\n",
        "                    })\n",
        "\n",
        "  mlp_division: int = field(default=4,\n",
        "                            metadata={\n",
        "                                'help': 'the ratio of the number of '\n",
        "                                        'hidden dims in a current layer to the next MLP layer'\n",
        "                            })\n",
        "  combine_feat_method: str = field(default='individual_mlps_on_cat_and_numerical_feats_then_concat',\n",
        "                                    metadata={\n",
        "                                        'help': 'method to combine categorical and numerical features, '\n",
        "                                                'see README for all the method'\n",
        "                                    })\n",
        "  mlp_dropout: float = field(default=0.1,\n",
        "                              metadata={\n",
        "                                'help': 'dropout ratio used for MLP layers'\n",
        "                              })\n",
        "  numerical_bn: bool = field(default=True,\n",
        "                              metadata={\n",
        "                                  'help': 'whether to use batchnorm on numerical features'\n",
        "                              })\n",
        "  use_simple_classifier: str = field(default=True,\n",
        "                                      metadata={\n",
        "                                          'help': 'whether to use single layer or MLP as final classifier'\n",
        "                                      })\n",
        "  mlp_act: str = field(default='relu',\n",
        "                        metadata={\n",
        "                            'help': 'the activation function to use for finetuning layers',\n",
        "                            'choices': ['relu', 'prelu', 'sigmoid', 'tanh', 'linear']\n",
        "                        })\n",
        "  gating_beta: float = field(default=0.2,\n",
        "                              metadata={\n",
        "                                  'help': \"the beta hyperparameters used for gating tabular data \"\n",
        "                                          \"see https://www.aclweb.org/anthology/2020.acl-main.214.pdf\"\n",
        "                              })\n",
        "\n",
        "  def __post_init__(self):\n",
        "      assert self.column_info != self.column_info_path\n",
        "      if self.column_info is None and self.column_info_path:\n",
        "          with open(self.column_info_path, 'r') as f:\n",
        "              self.column_info = json.load(f)"
      ]
    },
    {
      "cell_type": "markdown",
      "metadata": {
        "id": "7ZC5ds3lRsuS"
      },
      "source": [
        "### Here are the data and training parameters we will use.\n",
        "For model we can specify any supported HuggingFace model classes (see README for more details) as well as any AutoModel that are from the supported model classes. For the data specifications, we need to specify a dictionary that specifies which columns are the `text` columns, `numerical feature` columns, `categorical feature` column, and the `label` column. If we are doing classification, we can also specify what each of the labels means in the label column through the `label list`. We can also specifiy these columns using a path to a json file with the argument `column_info_path` to `MultimodalDataTrainingArguments`."
      ]
    },
    {
      "cell_type": "code",
      "execution_count": null,
      "metadata": {
        "id": "MGjGmetXRsuS"
      },
      "outputs": [],
      "source": [
        "text_cols = ['tweet_text']\n",
        "cat_cols = ['verified','url']\n",
        "numerical_cols = ['followers', 'following', 'likes', 'rts', 'posts']\n",
        "\n",
        "column_info_dict = {\n",
        "    'text_cols': text_cols,\n",
        "    'num_cols': numerical_cols,\n",
        "    'cat_cols': cat_cols,\n",
        "    'label_col': 'class_label',\n",
        "    'label_list': [0,1]\n",
        "}\n",
        "\n",
        "\n",
        "model_args = ModelArguments(\n",
        "    model_name_or_path='bert-base-uncased'\n",
        ")\n",
        "\n",
        "data_args = MultimodalDataTrainingArguments(\n",
        "    data_path='.',\n",
        "    combine_feat_method='weighted_feature_sum_on_transformer_cat_and_numerical_feats',\n",
        "    column_info=column_info_dict,\n",
        "    task='classification'\n",
        ")\n",
        "\n",
        "training_args = TrainingArguments(\n",
        "    output_dir=\"./logs/model_name\",\n",
        "    logging_dir=\"./logs/runs\",\n",
        "    overwrite_output_dir=True,\n",
        "    do_train=True,\n",
        "    do_eval=True,\n",
        "    per_device_train_batch_size=8,\n",
        "    num_train_epochs=1,\n",
        "    evaluate_during_training=True,\n",
        "    logging_steps=25,\n",
        "    eval_steps=50\n",
        ")\n",
        "\n",
        "set_seed(training_args.seed)"
      ]
    },
    {
      "cell_type": "markdown",
      "metadata": {
        "id": "9ErHoD6pRsuZ"
      },
      "source": [
        "## Now we can load our model and data. \n",
        "### We first instantiate our HuggingFace tokenizer\n",
        "This is needed to prepare our custom torch dataset. See `torch_dataset.py` for details."
      ]
    },
    {
      "cell_type": "code",
      "execution_count": null,
      "metadata": {
        "colab": {
          "base_uri": "https://localhost:8080/"
        },
        "id": "38GJb0Y7RsuZ",
        "outputId": "61a5d63e-1417-4547-afcc-9600f3354168"
      },
      "outputs": [
        {
          "output_type": "stream",
          "name": "stdout",
          "text": [
            "Specified tokenizer:  bert-base-uncased\n"
          ]
        }
      ],
      "source": [
        "tokenizer_path_or_name = model_args.tokenizer_name if model_args.tokenizer_name else model_args.model_name_or_path\n",
        "print('Specified tokenizer: ', tokenizer_path_or_name)\n",
        "tokenizer = AutoTokenizer.from_pretrained(\n",
        "    tokenizer_path_or_name,\n",
        "    cache_dir=model_args.cache_dir,\n",
        ")"
      ]
    },
    {
      "cell_type": "markdown",
      "metadata": {
        "id": "Z-f4bMPLRsue"
      },
      "source": [
        "### Load dataset csvs to torch datasets\n",
        "The function `load_data_from_folder` expects a path to a folder that contains `train.csv`, `test.csv`, and/or `val.csv` containing the respective split datasets. "
      ]
    },
    {
      "cell_type": "code",
      "execution_count": null,
      "metadata": {
        "colab": {
          "base_uri": "https://localhost:8080/"
        },
        "id": "Xz7LHXFoRsue",
        "outputId": "ef9cc8ba-a481-4ce3-caf1-6f70c7eeddca"
      },
      "outputs": [
        {
          "output_type": "stream",
          "name": "stderr",
          "text": [
            "INFO:multimodal_transformers.data.data_utils:5 numerical columns\n",
            "/usr/local/lib/python3.7/dist-packages/pandas/core/frame.py:3641: SettingWithCopyWarning: \n",
            "A value is trying to be set on a copy of a slice from a DataFrame.\n",
            "Try using .loc[row_indexer,col_indexer] = value instead\n",
            "\n",
            "See the caveats in the documentation: https://pandas.pydata.org/pandas-docs/stable/user_guide/indexing.html#returning-a-view-versus-a-copy\n",
            "  self[k1] = value[k2]\n",
            "INFO:multimodal_transformers.data.data_utils:6 categorical columns\n",
            "INFO:multimodal_transformers.data.data_utils:5 numerical columns\n",
            "/usr/local/lib/python3.7/dist-packages/pandas/core/frame.py:3641: SettingWithCopyWarning: \n",
            "A value is trying to be set on a copy of a slice from a DataFrame.\n",
            "Try using .loc[row_indexer,col_indexer] = value instead\n",
            "\n",
            "See the caveats in the documentation: https://pandas.pydata.org/pandas-docs/stable/user_guide/indexing.html#returning-a-view-versus-a-copy\n",
            "  self[k1] = value[k2]\n",
            "INFO:multimodal_transformers.data.load_data:Text columns: ['tweet_text']\n",
            "INFO:multimodal_transformers.data.load_data:Raw text example: India's gift of number  COVID-19 vaccines arrived Barbados earlier today. This was a very special moment for all Barbadians and I want to thank Prime Minister Modi for his quick, decisive, and magnanimous action in allowing us to be the beneficiary of these vaccines. \n",
            "INFO:multimodal_transformers.data.data_utils:6 categorical columns\n",
            "INFO:multimodal_transformers.data.data_utils:5 numerical columns\n",
            "/usr/local/lib/python3.7/dist-packages/pandas/core/frame.py:3641: SettingWithCopyWarning: \n",
            "A value is trying to be set on a copy of a slice from a DataFrame.\n",
            "Try using .loc[row_indexer,col_indexer] = value instead\n",
            "\n",
            "See the caveats in the documentation: https://pandas.pydata.org/pandas-docs/stable/user_guide/indexing.html#returning-a-view-versus-a-copy\n",
            "  self[k1] = value[k2]\n",
            "INFO:multimodal_transformers.data.load_data:Text columns: ['tweet_text']\n",
            "INFO:multimodal_transformers.data.load_data:Raw text example: Phineas and Ferb would have made the vaccine by now\n",
            "INFO:multimodal_transformers.data.data_utils:6 categorical columns\n",
            "INFO:multimodal_transformers.data.data_utils:5 numerical columns\n",
            "/usr/local/lib/python3.7/dist-packages/pandas/core/frame.py:3641: SettingWithCopyWarning: \n",
            "A value is trying to be set on a copy of a slice from a DataFrame.\n",
            "Try using .loc[row_indexer,col_indexer] = value instead\n",
            "\n",
            "See the caveats in the documentation: https://pandas.pydata.org/pandas-docs/stable/user_guide/indexing.html#returning-a-view-versus-a-copy\n",
            "  self[k1] = value[k2]\n",
            "INFO:multimodal_transformers.data.load_data:Text columns: ['tweet_text']\n",
            "INFO:multimodal_transformers.data.load_data:Raw text example:  number  The solution is not one or the other. That’s quite a narrow-minded perspective. While vaccines are scarce, other alternatives must be implemented to curb the spread of Covid-19. And also, it’s simply the law of supply and demand at play here, you don’t need to politicise it.\n"
          ]
        }
      ],
      "source": [
        "# Get Datasets\n",
        "train_dataset, val_dataset, test_dataset = load_data_from_folder(\n",
        "    data_args.data_path,\n",
        "    data_args.column_info['text_cols'],\n",
        "    tokenizer,\n",
        "    label_col=data_args.column_info['label_col'],\n",
        "    label_list=data_args.column_info['label_list'],\n",
        "    categorical_cols=data_args.column_info['cat_cols'],\n",
        "    numerical_cols=data_args.column_info['num_cols'],\n",
        "    sep_text_token_str=tokenizer.sep_token,\n",
        ")"
      ]
    },
    {
      "cell_type": "code",
      "execution_count": null,
      "metadata": {
        "colab": {
          "base_uri": "https://localhost:8080/"
        },
        "id": "ABT1hK9cRsuk",
        "outputId": "b6dd804c-dc0b-4703-8062-a16d18b680ca"
      },
      "outputs": [
        {
          "output_type": "execute_result",
          "data": {
            "text/plain": [
              "2"
            ]
          },
          "metadata": {},
          "execution_count": 51
        }
      ],
      "source": [
        "num_labels = len(np.unique(train_dataset.labels))\n",
        "num_labels"
      ]
    },
    {
      "cell_type": "code",
      "execution_count": null,
      "metadata": {
        "id": "WZV-kyVqRsun"
      },
      "outputs": [],
      "source": [
        "config = AutoConfig.from_pretrained(\n",
        "        model_args.config_name if model_args.config_name else model_args.model_name_or_path,\n",
        "        cache_dir=model_args.cache_dir,\n",
        "    )\n",
        "tabular_config = TabularConfig(num_labels=num_labels,\n",
        "                               cat_feat_dim=train_dataset.cat_feats.shape[1],\n",
        "                               numerical_feat_dim=train_dataset.numerical_feats.shape[1],\n",
        "                               **vars(data_args))\n",
        "config.tabular_config = tabular_config"
      ]
    },
    {
      "cell_type": "code",
      "execution_count": null,
      "metadata": {
        "colab": {
          "base_uri": "https://localhost:8080/"
        },
        "id": "WXqprYO-Rsur",
        "outputId": "ae1e28a9-8a59-4ea0-eb9e-8a39a645eab8"
      },
      "outputs": [
        {
          "output_type": "stream",
          "name": "stderr",
          "text": [
            "Some weights of the model checkpoint at bert-base-uncased were not used when initializing BertWithTabular: ['cls.predictions.bias', 'cls.predictions.transform.dense.weight', 'cls.predictions.transform.dense.bias', 'cls.predictions.decoder.weight', 'cls.seq_relationship.weight', 'cls.seq_relationship.bias', 'cls.predictions.transform.LayerNorm.weight', 'cls.predictions.transform.LayerNorm.bias']\n",
            "- This IS expected if you are initializing BertWithTabular from the checkpoint of a model trained on another task or with another architecture (e.g. initializing a BertForSequenceClassification model from a BertForPretraining model).\n",
            "- This IS NOT expected if you are initializing BertWithTabular from the checkpoint of a model that you expect to be exactly identical (initializing a BertForSequenceClassification model from a BertForSequenceClassification model).\n",
            "Some weights of BertWithTabular were not initialized from the model checkpoint at bert-base-uncased and are newly initialized: ['classifier.weight', 'classifier.bias', 'tabular_combiner.weight_cat', 'tabular_combiner.weight_num', 'tabular_combiner.num_bn.weight', 'tabular_combiner.num_bn.bias', 'tabular_combiner.num_bn.running_mean', 'tabular_combiner.num_bn.running_var', 'tabular_combiner.cat_layer.weight', 'tabular_combiner.cat_layer.bias', 'tabular_combiner.num_layer.weight', 'tabular_combiner.num_layer.bias', 'tabular_combiner.layer_norm.weight', 'tabular_combiner.layer_norm.bias', 'tabular_classifier.weight', 'tabular_classifier.bias']\n",
            "You should probably TRAIN this model on a down-stream task to be able to use it for predictions and inference.\n"
          ]
        }
      ],
      "source": [
        "model = AutoModelWithTabular.from_pretrained(\n",
        "        model_args.config_name if model_args.config_name else model_args.model_name_or_path,\n",
        "        config=config,\n",
        "        cache_dir=model_args.cache_dir\n",
        "    )"
      ]
    },
    {
      "cell_type": "markdown",
      "metadata": {
        "id": "mi7UsNvvRsux"
      },
      "source": [
        "### We need to define a task-specific way of computing relevant metrics:"
      ]
    },
    {
      "cell_type": "code",
      "execution_count": null,
      "metadata": {
        "id": "2ww35P4MRsux"
      },
      "outputs": [],
      "source": [
        "import numpy as np\n",
        "from scipy.special import softmax\n",
        "\n",
        "from sklearn.metrics import (\n",
        "    auc,\n",
        "    precision_recall_curve,\n",
        "    roc_auc_score,\n",
        "    f1_score,\n",
        "    confusion_matrix,\n",
        "    matthews_corrcoef,\n",
        ")\n",
        "\n",
        "def calc_classification_metrics(p: EvalPrediction):\n",
        "  pred_labels = np.argmax(p.predictions, axis=1)\n",
        "  pred_scores = softmax(p.predictions, axis=1)[:, 1]\n",
        "  labels = p.label_ids\n",
        "  if len(np.unique(labels)) == 2:  # binary classification\n",
        "      roc_auc_pred_score = roc_auc_score(labels, pred_scores)\n",
        "      precisions, recalls, thresholds = precision_recall_curve(labels,\n",
        "                                                                pred_scores)\n",
        "      fscore = (2 * precisions * recalls) / (precisions + recalls)\n",
        "      fscore[np.isnan(fscore)] = 0\n",
        "      ix = np.argmax(fscore)\n",
        "      threshold = thresholds[ix].item()\n",
        "      pr_auc = auc(recalls, precisions)\n",
        "      tn, fp, fn, tp = confusion_matrix(labels, pred_labels, labels=[0, 1]).ravel()\n",
        "      result = {'roc_auc': roc_auc_pred_score,\n",
        "                'threshold': threshold,\n",
        "                'pr_auc': pr_auc,\n",
        "                'recall': recalls[ix].item(),\n",
        "                'precision': precisions[ix].item(), 'f1': fscore[ix].item(),\n",
        "                'tn': tn.item(), 'fp': fp.item(), 'fn': fn.item(), 'tp': tp.item()\n",
        "                }\n",
        "  else:\n",
        "      acc = (pred_labels == labels).mean()\n",
        "      f1 = f1_score(y_true=labels, y_pred=pred_labels)\n",
        "      result = {\n",
        "          \"acc\": acc,\n",
        "          \"f1\": f1,\n",
        "          \"acc_and_f1\": (acc + f1) / 2,\n",
        "          \"mcc\": matthews_corrcoef(labels, pred_labels)\n",
        "      }\n",
        "\n",
        "\n",
        "  return result"
      ]
    },
    {
      "cell_type": "code",
      "execution_count": null,
      "metadata": {
        "id": "cFeF6HTsRsu1"
      },
      "outputs": [],
      "source": [
        "trainer = Trainer(\n",
        "    model=model,\n",
        "    args=training_args,\n",
        "    train_dataset=train_dataset,\n",
        "    eval_dataset=val_dataset,\n",
        "    compute_metrics=calc_classification_metrics\n",
        ")"
      ]
    },
    {
      "cell_type": "markdown",
      "metadata": {
        "id": "LtWJoq6nRsvM"
      },
      "source": [
        "## Launching the training is as simple is doing trainer.train() 🤗"
      ]
    },
    {
      "cell_type": "code",
      "execution_count": null,
      "metadata": {
        "id": "fHtN4yhdRsvN"
      },
      "outputs": [],
      "source": [
        "%%time\n",
        "trainer.train()"
      ]
    },
    {
      "cell_type": "code",
      "execution_count": null,
      "metadata": {
        "id": "coBaqh-lQoIv"
      },
      "outputs": [],
      "source": [
        "pred = trainer.predict(test_dataset)"
      ]
    }
  ],
  "metadata": {
    "accelerator": "GPU",
    "colab": {
      "collapsed_sections": [
        "XA5z7WTqWV0A",
        "7ZC5ds3lRsuS",
        "Z-f4bMPLRsue",
        "4-NkufyHRsve"
      ],
      "name": "MultimodalTweetAnalysis",
      "provenance": [],
      "include_colab_link": true
    },
    "kernelspec": {
      "display_name": "Python 3",
      "language": "python",
      "name": "python3"
    },
    "language_info": {
      "codemirror_mode": {
        "name": "ipython",
        "version": 3
      },
      "file_extension": ".py",
      "mimetype": "text/x-python",
      "name": "python",
      "nbconvert_exporter": "python",
      "pygments_lexer": "ipython3",
      "version": "3.7.3"
    }
  },
  "nbformat": 4,
  "nbformat_minor": 0
}